{
  "cells": [
    {
      "cell_type": "markdown",
      "metadata": {
        "id": "view-in-github",
        "colab_type": "text"
      },
      "source": [
        "<a href=\"https://colab.research.google.com/github/wkimunya/my/blob/main/Probability_Checkpoint_1_.ipynb\" target=\"_parent\"><img src=\"https://colab.research.google.com/assets/colab-badge.svg\" alt=\"Open In Colab\"/></a>"
      ]
    },
    {
      "cell_type": "markdown",
      "metadata": {
        "deletable": false,
        "editable": false,
        "nbgrader": {
          "cell_type": "markdown",
          "checksum": "afb7bc9f6a96ee671636d32d68ad178c",
          "grade": false,
          "grade_id": "0e49adae2b512d2640f21c5ec5687562",
          "locked": true,
          "schema_version": 3,
          "solution": false,
          "task": false
        },
        "id": "G4ycdOFXCOGF"
      },
      "source": [
        "## Probability and Combinatorics\n"
      ]
    },
    {
      "cell_type": "code",
      "execution_count": 12,
      "metadata": {
        "deletable": false,
        "editable": false,
        "nbgrader": {
          "cell_type": "code",
          "checksum": "c73db382ece2e3ce7780888e621ac050",
          "grade": false,
          "grade_id": "cell-41a1f2d44db61848",
          "locked": true,
          "schema_version": 3,
          "solution": false,
          "task": false
        },
        "id": "2KSZoJQZCOGH"
      },
      "outputs": [],
      "source": [
        "# Run this cell without changes\n",
        "# You may find this module useful but are not required to use it\n",
        "import math"
      ]
    },
    {
      "cell_type": "markdown",
      "metadata": {
        "deletable": false,
        "editable": false,
        "nbgrader": {
          "cell_type": "markdown",
          "checksum": "f9f825b74329f8f6fd412f3d61c85941",
          "grade": false,
          "grade_id": "04862adda32ff7149c0352feac944413",
          "locked": true,
          "schema_version": 3,
          "solution": false,
          "task": false
        },
        "id": "wkVVdeWWCOGI"
      },
      "source": [
        "## Probability\n",
        "\n",
        "### Probability Exercises\n",
        "\n",
        "Given the following probabilities:\n",
        "\n",
        "$P(A) = 0.7$\n",
        "\n",
        "$P(B) = 0.5$\n",
        "\n",
        "$P(B|A) = 0.4$\n",
        "\n",
        "Calculate the probabilities described in Question 1 and Question 2. Rather than \"hard-coding\" an answer, try to show your work by adding/subtracting/multiplying/dividing the original probabilities, e.g. `0.2*0.1` rather than just writing `0.02`\n",
        "\n",
        "Hint: draw a diagram if you're getting stuck!"
      ]
    },
    {
      "cell_type": "markdown",
      "metadata": {
        "deletable": false,
        "editable": false,
        "nbgrader": {
          "cell_type": "markdown",
          "checksum": "9eafacf12e1395a6163f1d31eb9a6503",
          "grade": false,
          "grade_id": "cell-8795006fcabb3786",
          "locked": true,
          "schema_version": 3,
          "solution": false,
          "task": false
        },
        "id": "12zPnLN_COGJ"
      },
      "source": [
        "#### Question 1: $P(A and B)$\n",
        "    \n",
        "Assign your answer to the variable `ans1`"
      ]
    },
    {
      "cell_type": "code",
      "execution_count": 13,
      "metadata": {
        "deletable": false,
        "nbgrader": {
          "cell_type": "code",
          "checksum": "ce268517987c60be039bc482102f2b59",
          "grade": false,
          "grade_id": "cell-0124b2cebfd77e6c",
          "locked": false,
          "schema_version": 3,
          "solution": true,
          "task": false
        },
        "id": "7W1zoVeCCOGJ",
        "outputId": "6f08c2ea-060c-43ec-ee2d-963ca0647893",
        "colab": {
          "base_uri": "https://localhost:8080/"
        }
      },
      "outputs": [
        {
          "output_type": "execute_result",
          "data": {
            "text/plain": [
              "0.27999999999999997"
            ]
          },
          "metadata": {},
          "execution_count": 13
        }
      ],
      "source": [
        "#P(A and B) => P(A n B) => given b_a, we will multiply P(A)*P(B|A)\n",
        "a = 0.7\n",
        "b = 0.5\n",
        "b_a = 0.4\n",
        "\n",
        "ans1 = 0.7 * 0.4\n",
        "# YOUR CODE HERE\n",
        "ans1"
      ]
    },
    {
      "cell_type": "code",
      "execution_count": 14,
      "metadata": {
        "deletable": false,
        "editable": false,
        "nbgrader": {
          "cell_type": "code",
          "checksum": "863f99f9dae30a5d27ca6ccf2d6e657d",
          "grade": true,
          "grade_id": "bb63f014845b5b5cd3826c0fe8e8a4d5",
          "locked": true,
          "points": 1,
          "schema_version": 3,
          "solution": false,
          "task": false
        },
        "id": "OX8mRujuCOGJ"
      },
      "outputs": [],
      "source": [
        "# PUT ALL WORK FOR THE ABOVE QUESTION ABOVE THIS CELL\n",
        "# THIS UNALTERABLE CELL CONTAINS HIDDEN TESTS\n",
        "\n",
        "# ans1 should be a floating point probability between 0 and 1\n",
        "assert type(ans1) == float\n"
      ]
    },
    {
      "cell_type": "markdown",
      "metadata": {
        "deletable": false,
        "editable": false,
        "nbgrader": {
          "cell_type": "markdown",
          "checksum": "acb14bdbd3b14733f789bc953a189aef",
          "grade": false,
          "grade_id": "cell-97d1ad6f20ff70c9",
          "locked": true,
          "schema_version": 3,
          "solution": false,
          "task": false
        },
        "id": "irJ9GskDCOGJ"
      },
      "source": [
        "#### Question 2: $P(A|B)$\n",
        "    \n",
        "Assign your answer to the variable `ans2`"
      ]
    },
    {
      "cell_type": "code",
      "execution_count": 15,
      "metadata": {
        "deletable": false,
        "nbgrader": {
          "cell_type": "code",
          "checksum": "c8c5d1f8ab31ca4a8a3d7707a9664cfa",
          "grade": false,
          "grade_id": "35e11a8fcb18db65a5c0367f8b2cc322",
          "locked": false,
          "schema_version": 3,
          "solution": true,
          "task": false
        },
        "id": "AmRGaqD9COGJ",
        "colab": {
          "base_uri": "https://localhost:8080/"
        },
        "outputId": "5cef962a-9f6a-4e77-8beb-92121522f19b"
      },
      "outputs": [
        {
          "output_type": "execute_result",
          "data": {
            "text/plain": [
              "0.5599999999999999"
            ]
          },
          "metadata": {},
          "execution_count": 15
        }
      ],
      "source": [
        "# (A n B)/ B\n",
        "# (A n B) =\n",
        "\n",
        "ans2 = ans1/b\n",
        "# YOUR CODE HERE\n",
        "\n",
        "ans2"
      ]
    },
    {
      "cell_type": "code",
      "execution_count": 16,
      "metadata": {
        "deletable": false,
        "editable": false,
        "nbgrader": {
          "cell_type": "code",
          "checksum": "49f46a5799361398b912d46ce8862003",
          "grade": true,
          "grade_id": "cell-279432d557f54c0a",
          "locked": true,
          "points": 1,
          "schema_version": 3,
          "solution": false,
          "task": false
        },
        "id": "-Nhb0on-COGK"
      },
      "outputs": [],
      "source": [
        "# PUT ALL WORK FOR THE ABOVE QUESTION ABOVE THIS CELL\n",
        "# THIS UNALTERABLE CELL CONTAINS HIDDEN TESTS\n",
        "\n",
        "# ans2 should be a floating point probability between 0 and 1\n",
        "assert type(ans2) == float\n"
      ]
    },
    {
      "cell_type": "markdown",
      "metadata": {
        "deletable": false,
        "editable": false,
        "nbgrader": {
          "cell_type": "markdown",
          "checksum": "b48d83f0da38c61c59562cc9dce5d5be",
          "grade": false,
          "grade_id": "cell-db9362b2c7ba6f96",
          "locked": true,
          "schema_version": 3,
          "solution": false,
          "task": false
        },
        "id": "vMjZoLqwCOGK"
      },
      "source": [
        "### Probability Theory\n",
        "\n",
        "#### Question 3: True or false: $P(A or B)$ is always equal to $P(A)$ + $P(B)$"
      ]
    },
    {
      "cell_type": "code",
      "execution_count": 17,
      "metadata": {
        "deletable": false,
        "nbgrader": {
          "cell_type": "code",
          "checksum": "c7544abe9393c5d39060f1972af98d55",
          "grade": false,
          "grade_id": "cell-3ac0d85c74130412",
          "locked": false,
          "schema_version": 3,
          "solution": true,
          "task": false
        },
        "id": "MKj2H3NACOGK",
        "colab": {
          "base_uri": "https://localhost:8080/"
        },
        "outputId": "5153eff6-3d60-45e3-82fd-50a1e2877db2"
      },
      "outputs": [
        {
          "output_type": "execute_result",
          "data": {
            "text/plain": [
              "True"
            ]
          },
          "metadata": {},
          "execution_count": 17
        }
      ],
      "source": [
        "ans3 = True\n",
        "# YOUR CODE HERE\n",
        "\n",
        "ans3"
      ]
    },
    {
      "cell_type": "code",
      "execution_count": 18,
      "metadata": {
        "deletable": false,
        "editable": false,
        "nbgrader": {
          "cell_type": "code",
          "checksum": "03ac4d6bff974cddacbb026511abf397",
          "grade": true,
          "grade_id": "cell-0afd5e19ab559154",
          "locked": true,
          "points": 1,
          "schema_version": 3,
          "solution": false,
          "task": false
        },
        "id": "vkhsOjfxCOGK"
      },
      "outputs": [],
      "source": [
        "# PUT ALL WORK FOR THE ABOVE QUESTION ABOVE THIS CELL\n",
        "# THIS UNALTERABLE CELL CONTAINS HIDDEN TESTS\n",
        "\n",
        "# ans3 should be a boolean\n",
        "assert type(ans3) == bool\n"
      ]
    },
    {
      "cell_type": "markdown",
      "metadata": {
        "deletable": false,
        "editable": false,
        "nbgrader": {
          "cell_type": "markdown",
          "checksum": "0adaf050057c9925a8dd9d0e06f48dd9",
          "grade": false,
          "grade_id": "7295f317b6aa93e7a7f162c8f0ce6c1a",
          "locked": true,
          "schema_version": 3,
          "solution": false,
          "task": false
        },
        "id": "YqYbSjXXCOGK"
      },
      "source": [
        "## Card Combinatorics\n",
        "\n",
        "A standard deck of playing cards consists of 52 cards in each of the four suits of spades, hearts, diamonds, and clubs. Each suit contains 13 cards: Ace, 2, 3, 4, 5, 6, 7, 8, 9, 10, Jack, Queen, and King.\n",
        "    \n",
        "You have a standard deck of 52 cards and are asked the following questions:\n",
        "\n",
        "Answer the questions below:"
      ]
    },
    {
      "cell_type": "markdown",
      "metadata": {
        "deletable": false,
        "editable": false,
        "nbgrader": {
          "cell_type": "markdown",
          "checksum": "1eb16882de80758f56658fa9c7875fcd",
          "grade": false,
          "grade_id": "cell-07c61a666e4ce8d1",
          "locked": true,
          "schema_version": 3,
          "solution": false,
          "task": false
        },
        "id": "IMpJYLUECOGK"
      },
      "source": [
        "#### Question 4: What is the probability of drawing a King or a Queen?\n",
        "\n",
        "Assign your answer to the variable `ans4`"
      ]
    },
    {
      "cell_type": "code",
      "execution_count": 19,
      "metadata": {
        "deletable": false,
        "nbgrader": {
          "cell_type": "code",
          "checksum": "febbdb660885b7b8a5abf0a78a4a1629",
          "grade": false,
          "grade_id": "cell-7567c5aa3ef2dbcc",
          "locked": false,
          "schema_version": 3,
          "solution": true,
          "task": false
        },
        "id": "MzshsKPeCOGK",
        "outputId": "cd4ef13b-580a-4b41-cfb7-801368a07413",
        "colab": {
          "base_uri": "https://localhost:8080/"
        }
      },
      "outputs": [
        {
          "output_type": "execute_result",
          "data": {
            "text/plain": [
              "0.15384615384615385"
            ]
          },
          "metadata": {},
          "execution_count": 19
        }
      ],
      "source": [
        "ans4 = 8/52\n",
        "# YOUR CODE HERE\n",
        "\n",
        "ans4"
      ]
    },
    {
      "cell_type": "code",
      "execution_count": 20,
      "metadata": {
        "deletable": false,
        "editable": false,
        "nbgrader": {
          "cell_type": "code",
          "checksum": "87e0b41999629e37430fde46bdbdbd9d",
          "grade": true,
          "grade_id": "cell-06ca778aad6089a8",
          "locked": true,
          "points": 1,
          "schema_version": 3,
          "solution": false,
          "task": false
        },
        "id": "EyMJdq9TCOGK"
      },
      "outputs": [],
      "source": [
        "# PUT ALL WORK FOR THE ABOVE QUESTION ABOVE THIS CELL\n",
        "# THIS UNALTERABLE CELL CONTAINS HIDDEN TESTS\n",
        "\n",
        "# ans4 should be a floating point probability between 0 and 1\n",
        "assert type(ans4) == float\n"
      ]
    },
    {
      "cell_type": "markdown",
      "metadata": {
        "deletable": false,
        "editable": false,
        "nbgrader": {
          "cell_type": "markdown",
          "checksum": "367f93b801bd5d978862f9df5e43e574",
          "grade": false,
          "grade_id": "cell-5fc8d7d1205a0f4d",
          "locked": true,
          "schema_version": 3,
          "solution": false,
          "task": false
        },
        "id": "rkicUUjwCOGK"
      },
      "source": [
        "#### Question 5: How many possible 5-card combinations can be formed with this deck of 52 cards?\n",
        "\n",
        "Assign your answer to the variable `ans5`"
      ]
    },
    {
      "cell_type": "code",
      "execution_count": 21,
      "metadata": {
        "deletable": false,
        "nbgrader": {
          "cell_type": "code",
          "checksum": "b01f0848ee60da93d5c7e06ee229e095",
          "grade": false,
          "grade_id": "05176f852d6a7a9c5eca5d695467f412",
          "locked": false,
          "schema_version": 3,
          "solution": true,
          "task": false
        },
        "id": "awyJNGYtCOGK",
        "outputId": "bfc228dd-9af8-4cd9-e4f7-a266ff0d18f0",
        "colab": {
          "base_uri": "https://localhost:8080/"
        }
      },
      "outputs": [
        {
          "output_type": "execute_result",
          "data": {
            "text/plain": [
              "2598960.0"
            ]
          },
          "metadata": {},
          "execution_count": 21
        }
      ],
      "source": [
        "#nCk = n!/(k!(n-k)!)\n",
        "\n",
        "ans5 = (math.factorial(52)) /(math.factorial(5)*(math.factorial(52-5)))\n",
        "# YOUR CODE HERE\n",
        "\n",
        "ans5"
      ]
    },
    {
      "cell_type": "code",
      "execution_count": 22,
      "metadata": {
        "deletable": false,
        "editable": false,
        "nbgrader": {
          "cell_type": "code",
          "checksum": "3d6d2fd05efecf2d9f7d0c341fa72b5d",
          "grade": true,
          "grade_id": "f5f6e2cb4ecc5832272d1ba4022c1db4",
          "locked": true,
          "points": 1,
          "schema_version": 3,
          "solution": false,
          "task": false
        },
        "id": "bypMMI9NCOGK"
      },
      "outputs": [],
      "source": [
        "# PUT ALL WORK FOR THE ABOVE QUESTION ABOVE THIS CELL\n",
        "# THIS UNALTERABLE CELL CONTAINS HIDDEN TESTS\n",
        "\n",
        "# ans5 should be a number greater than 1\n",
        "assert type(ans5) == int or type(ans5) == float\n"
      ]
    }
  ],
  "metadata": {
    "kernelspec": {
      "display_name": "Python 3",
      "language": "python",
      "name": "python3"
    },
    "language_info": {
      "codemirror_mode": {
        "name": "ipython",
        "version": 3
      },
      "file_extension": ".py",
      "mimetype": "text/x-python",
      "name": "python",
      "nbconvert_exporter": "python",
      "pygments_lexer": "ipython3",
      "version": "3.8.5"
    },
    "toc": {
      "base_numbering": 1,
      "nav_menu": {},
      "number_sections": true,
      "sideBar": true,
      "skip_h1_title": false,
      "title_cell": "Table of Contents",
      "title_sidebar": "Contents",
      "toc_cell": false,
      "toc_position": {},
      "toc_section_display": true,
      "toc_window_display": false
    },
    "colab": {
      "provenance": [],
      "include_colab_link": true
    }
  },
  "nbformat": 4,
  "nbformat_minor": 0
}